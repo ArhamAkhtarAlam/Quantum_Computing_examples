{
 "cells": [
  {
   "cell_type": "code",
   "execution_count": 125,
   "metadata": {},
   "outputs": [],
   "source": [
    "from qiskit import *\n",
    "from qiskit.visualization import plot_histogram, array_to_latex, plot_bloch_multivector\n",
    "%matplotlib inline"
   ]
  },
  {
   "cell_type": "markdown",
   "metadata": {},
   "source": [
    "input:0,0"
   ]
  },
  {
   "cell_type": "code",
   "execution_count": null,
   "metadata": {},
   "outputs": [],
   "source": [
    "circuit = QuantumCircuit(2)\n",
    "\n",
    "print(circuit)\n",
    "circuit.draw(output='mpl')"
   ]
  },
  {
   "cell_type": "code",
   "execution_count": null,
   "metadata": {},
   "outputs": [],
   "source": [
    "# UPDATE: Code updated after recording to resolve breaking changes from Qiskit 1.0\n",
    "circuit.remove_final_measurements()  # no measurements allowed\n",
    "from qiskit.quantum_info import Statevector\n",
    "statevector = Statevector(circuit)\n",
    "array_to_latex(statevector, prefix=\"\\\\text{statevector = }\\n\")"
   ]
  },
  {
   "cell_type": "code",
   "execution_count": null,
   "metadata": {},
   "outputs": [],
   "source": [
    "plot_bloch_multivector(statevector)"
   ]
  },
  {
   "cell_type": "code",
   "execution_count": null,
   "metadata": {},
   "outputs": [],
   "source": [
    "circuit.measure_all()\n",
    "\n",
    "# UPDATE: Code updated after recording to resolve breaking changes from Qiskit 1.0\n",
    "from qiskit.providers.basic_provider import BasicProvider\n",
    "simulator = BasicProvider().get_backend('basic_simulator')\n",
    "compiled_circuit = transpile(circuit, simulator)\n",
    "result = simulator.run(compiled_circuit).result()\n",
    "plot_histogram(result.get_counts())"
   ]
  },
  {
   "cell_type": "markdown",
   "metadata": {},
   "source": [
    "output"
   ]
  },
  {
   "cell_type": "code",
   "execution_count": null,
   "metadata": {},
   "outputs": [],
   "source": [
    "circuit.remove_final_measurements()\n",
    "\n",
    "circuit.swap(0,1)\n",
    "\n",
    "print(circuit)\n",
    "circuit.draw(output='mpl')"
   ]
  },
  {
   "cell_type": "code",
   "execution_count": null,
   "metadata": {},
   "outputs": [],
   "source": [
    "# UPDATE: Code updated after recording to resolve breaking changes from Qiskit 1.0\n",
    "circuit.remove_final_measurements()  # no measurements allowed\n",
    "from qiskit.quantum_info import Statevector\n",
    "statevector = Statevector(circuit)\n",
    "array_to_latex(statevector, prefix=\"\\\\text{statevector = }\\n\")"
   ]
  },
  {
   "cell_type": "code",
   "execution_count": null,
   "metadata": {},
   "outputs": [],
   "source": [
    "plot_bloch_multivector(statevector)"
   ]
  },
  {
   "cell_type": "code",
   "execution_count": null,
   "metadata": {},
   "outputs": [],
   "source": [
    "circuit.measure_all()\n",
    "\n",
    "# UPDATE: Code updated after recording to resolve breaking changes from Qiskit 1.0\n",
    "from qiskit.providers.basic_provider import BasicProvider\n",
    "simulator = BasicProvider().get_backend('basic_simulator')\n",
    "compiled_circuit = transpile(circuit, simulator)\n",
    "result = simulator.run(compiled_circuit).result()\n",
    "plot_histogram(result.get_counts())"
   ]
  },
  {
   "cell_type": "markdown",
   "metadata": {},
   "source": [
    "Input:0,1"
   ]
  },
  {
   "cell_type": "code",
   "execution_count": null,
   "metadata": {},
   "outputs": [],
   "source": [
    "circuit_2 = QuantumCircuit(2)\n",
    "\n",
    "circuit_2.x(1)\n",
    "\n",
    "print(circuit_2)\n",
    "circuit_2.draw(output='mpl')"
   ]
  },
  {
   "cell_type": "code",
   "execution_count": null,
   "metadata": {},
   "outputs": [],
   "source": [
    "# UPDATE: Code updated after recording to resolve breaking changes from Qiskit 1.0\n",
    "circuit_2.remove_final_measurements()  # no measurements allowed\n",
    "from qiskit.quantum_info import Statevector\n",
    "statevector_2 = Statevector(circuit_2)\n",
    "array_to_latex(statevector_2, prefix=\"\\\\text{statevector = }\\n\")"
   ]
  },
  {
   "cell_type": "code",
   "execution_count": null,
   "metadata": {},
   "outputs": [],
   "source": [
    "plot_bloch_multivector(statevector_2)"
   ]
  },
  {
   "cell_type": "code",
   "execution_count": null,
   "metadata": {},
   "outputs": [],
   "source": [
    "circuit_2.measure_all()\n",
    "\n",
    "# UPDATE: Code updated after recording to resolve breaking changes from Qiskit 1.0\n",
    "from qiskit.providers.basic_provider import BasicProvider\n",
    "simulator_2 = BasicProvider().get_backend('basic_simulator')\n",
    "compiled_circuit_2 = transpile(circuit_2, simulator_2)\n",
    "result_2 = simulator_2.run(compiled_circuit_2).result()\n",
    "plot_histogram(result_2.get_counts())"
   ]
  },
  {
   "cell_type": "markdown",
   "metadata": {},
   "source": [
    "output"
   ]
  },
  {
   "cell_type": "code",
   "execution_count": null,
   "metadata": {},
   "outputs": [],
   "source": [
    "circuit_2.remove_final_measurements()\n",
    "\n",
    "circuit_2.swap(0,1)\n",
    "\n",
    "print(circuit_2)\n",
    "circuit_2.draw(output='mpl')"
   ]
  },
  {
   "cell_type": "code",
   "execution_count": null,
   "metadata": {},
   "outputs": [],
   "source": [
    "# UPDATE: Code updated after recording to resolve breaking changes from Qiskit 1.0\n",
    "circuit_2.remove_final_measurements()  # no measurements allowed\n",
    "from qiskit.quantum_info import Statevector\n",
    "statevector_2 = Statevector(circuit_2)\n",
    "array_to_latex(statevector_2, prefix=\"\\\\text{statevector = }\\n\")"
   ]
  },
  {
   "cell_type": "code",
   "execution_count": null,
   "metadata": {},
   "outputs": [],
   "source": [
    "plot_bloch_multivector(statevector_2)"
   ]
  },
  {
   "cell_type": "code",
   "execution_count": null,
   "metadata": {},
   "outputs": [],
   "source": [
    "circuit_2.measure_all()\n",
    "\n",
    "# UPDATE: Code updated after recording to resolve breaking changes from Qiskit 1.0\n",
    "from qiskit.providers.basic_provider import BasicProvider\n",
    "simulator_2 = BasicProvider().get_backend('basic_simulator')\n",
    "compiled_circuit_2 = transpile(circuit_2, simulator_2)\n",
    "result_2 = simulator_2.run(compiled_circuit_2).result()\n",
    "plot_histogram(result_2.get_counts())"
   ]
  },
  {
   "cell_type": "markdown",
   "metadata": {},
   "source": [
    "Input:1,0"
   ]
  },
  {
   "cell_type": "code",
   "execution_count": null,
   "metadata": {},
   "outputs": [],
   "source": [
    "circuit_3 = QuantumCircuit(2)\n",
    "\n",
    "circuit_3.x(0)\n",
    "\n",
    "print(circuit_3)\n",
    "circuit_3.draw(output='mpl')"
   ]
  },
  {
   "cell_type": "code",
   "execution_count": null,
   "metadata": {},
   "outputs": [],
   "source": [
    "# UPDATE: Code updated after recording to resolve breaking changes from Qiskit 1.0\n",
    "circuit_3.remove_final_measurements()  # no measurements allowed\n",
    "from qiskit.quantum_info import Statevector\n",
    "statevector_3 = Statevector(circuit_3)\n",
    "array_to_latex(statevector_3, prefix=\"\\\\text{statevector = }\\n\")"
   ]
  },
  {
   "cell_type": "code",
   "execution_count": null,
   "metadata": {},
   "outputs": [],
   "source": [
    "plot_bloch_multivector(statevector_3)"
   ]
  },
  {
   "cell_type": "code",
   "execution_count": null,
   "metadata": {},
   "outputs": [],
   "source": [
    "circuit_3.measure_all()\n",
    "\n",
    "# UPDATE: Code updated after recording to resolve breaking changes from Qiskit 1.0\n",
    "from qiskit.providers.basic_provider import BasicProvider\n",
    "simulator_3 = BasicProvider().get_backend('basic_simulator')\n",
    "compiled_circuit_3 = transpile(circuit_3, simulator_3)\n",
    "result_3 = simulator_3.run(compiled_circuit_3).result()\n",
    "plot_histogram(result_3.get_counts())"
   ]
  },
  {
   "cell_type": "markdown",
   "metadata": {},
   "source": [
    "Output"
   ]
  },
  {
   "cell_type": "code",
   "execution_count": null,
   "metadata": {},
   "outputs": [],
   "source": [
    "circuit_3.remove_final_measurements()\n",
    "\n",
    "circuit_3.swap(0,1)\n",
    "\n",
    "print(circuit_3)\n",
    "circuit_3.draw(output='mpl')"
   ]
  },
  {
   "cell_type": "code",
   "execution_count": null,
   "metadata": {},
   "outputs": [],
   "source": [
    "# UPDATE: Code updated after recording to resolve breaking changes from Qiskit 1.0\n",
    "circuit_3.remove_final_measurements()  # no measurements allowed\n",
    "from qiskit.quantum_info import Statevector\n",
    "statevector_3 = Statevector(circuit_3)\n",
    "array_to_latex(statevector_3, prefix=\"\\\\text{statevector = }\\n\")"
   ]
  },
  {
   "cell_type": "code",
   "execution_count": null,
   "metadata": {},
   "outputs": [],
   "source": [
    "plot_bloch_multivector(statevector_3)"
   ]
  },
  {
   "cell_type": "code",
   "execution_count": null,
   "metadata": {},
   "outputs": [],
   "source": [
    "circuit_3.measure_all()\n",
    "\n",
    "# UPDATE: Code updated after recording to resolve breaking changes from Qiskit 1.0\n",
    "from qiskit.providers.basic_provider import BasicProvider\n",
    "simulator_3 = BasicProvider().get_backend('basic_simulator')\n",
    "compiled_circuit_3 = transpile(circuit_3, simulator_3)\n",
    "result_3 = simulator_3.run(compiled_circuit_3).result()\n",
    "plot_histogram(result_3.get_counts())"
   ]
  },
  {
   "cell_type": "markdown",
   "metadata": {},
   "source": [
    "Input:1,1"
   ]
  },
  {
   "cell_type": "code",
   "execution_count": null,
   "metadata": {},
   "outputs": [],
   "source": [
    "circuit_4 = QuantumCircuit(2)\n",
    "\n",
    "circuit_4.x(0)\n",
    "circuit_4.x(1)\n",
    "\n",
    "print(circuit_4)\n",
    "circuit_4.draw(output='mpl')"
   ]
  },
  {
   "cell_type": "code",
   "execution_count": null,
   "metadata": {},
   "outputs": [],
   "source": [
    "# UPDATE: Code updated after recording to resolve breaking changes from Qiskit 1.0\n",
    "circuit_4.remove_final_measurements()  # no measurements allowed\n",
    "from qiskit.quantum_info import Statevector\n",
    "statevector_4 = Statevector(circuit_4)\n",
    "array_to_latex(statevector_4, prefix=\"\\\\text{statevector = }\\n\")"
   ]
  },
  {
   "cell_type": "code",
   "execution_count": null,
   "metadata": {},
   "outputs": [],
   "source": [
    "plot_bloch_multivector(statevector_4)"
   ]
  },
  {
   "cell_type": "code",
   "execution_count": null,
   "metadata": {},
   "outputs": [],
   "source": [
    "circuit_4.measure_all()\n",
    "\n",
    "# UPDATE: Code updated after recording to resolve breaking changes from Qiskit 1.0\n",
    "from qiskit.providers.basic_provider import BasicProvider\n",
    "simulator_4 = BasicProvider().get_backend('basic_simulator')\n",
    "compiled_circuit_4 = transpile(circuit_4, simulator_4)\n",
    "result_4 = simulator_4.run(compiled_circuit_4).result()\n",
    "plot_histogram(result_4.get_counts())"
   ]
  },
  {
   "cell_type": "markdown",
   "metadata": {},
   "source": [
    "Output"
   ]
  },
  {
   "cell_type": "code",
   "execution_count": null,
   "metadata": {},
   "outputs": [],
   "source": [
    "circuit_4.remove_final_measurements()\n",
    "\n",
    "circuit_4.swap(0,1)\n",
    "\n",
    "print(circuit_4)\n",
    "circuit_4.draw(output='mpl')"
   ]
  },
  {
   "cell_type": "code",
   "execution_count": null,
   "metadata": {},
   "outputs": [],
   "source": [
    "# UPDATE: Code updated after recording to resolve breaking changes from Qiskit 1.0\n",
    "circuit_4.remove_final_measurements()  # no measurements allowed\n",
    "from qiskit.quantum_info import Statevector\n",
    "statevector_4 = Statevector(circuit_4)\n",
    "array_to_latex(statevector_4, prefix=\"\\\\text{statevector = }\\n\")"
   ]
  },
  {
   "cell_type": "code",
   "execution_count": null,
   "metadata": {},
   "outputs": [],
   "source": [
    "plot_bloch_multivector(statevector_4)"
   ]
  },
  {
   "cell_type": "code",
   "execution_count": null,
   "metadata": {},
   "outputs": [],
   "source": [
    "circuit_4.measure_all()\n",
    "\n",
    "# UPDATE: Code updated after recording to resolve breaking changes from Qiskit 1.0\n",
    "from qiskit.providers.basic_provider import BasicProvider\n",
    "simulator_4 = BasicProvider().get_backend('basic_simulator')\n",
    "compiled_circuit_4 = transpile(circuit_4, simulator_4)\n",
    "result_4 = simulator_4.run(compiled_circuit_4).result()\n",
    "plot_histogram(result_4.get_counts())"
   ]
  },
  {
   "cell_type": "markdown",
   "metadata": {},
   "source": [
    "Input:H,0"
   ]
  },
  {
   "cell_type": "code",
   "execution_count": null,
   "metadata": {},
   "outputs": [],
   "source": [
    "circuit_5 = QuantumCircuit(2)\n",
    "\n",
    "circuit_5.h(0)\n",
    "\n",
    "print(circuit_5)\n",
    "circuit_5.draw(output='mpl')"
   ]
  },
  {
   "cell_type": "code",
   "execution_count": null,
   "metadata": {},
   "outputs": [],
   "source": [
    "# UPDATE: Code updated after recording to resolve breaking changes from Qiskit 1.0\n",
    "circuit_5.remove_final_measurements()  # no measurements allowed\n",
    "from qiskit.quantum_info import Statevector\n",
    "statevector_5 = Statevector(circuit_5)\n",
    "array_to_latex(statevector_5, prefix=\"\\\\text{statevector = }\\n\")"
   ]
  },
  {
   "cell_type": "code",
   "execution_count": null,
   "metadata": {},
   "outputs": [],
   "source": [
    "plot_bloch_multivector(statevector_5)"
   ]
  },
  {
   "cell_type": "code",
   "execution_count": null,
   "metadata": {},
   "outputs": [],
   "source": [
    "circuit_5.measure_all()\n",
    "\n",
    "# UPDATE: Code updated after recording to resolve breaking changes from Qiskit 1.0\n",
    "from qiskit.providers.basic_provider import BasicProvider\n",
    "simulator_5 = BasicProvider().get_backend('basic_simulator')\n",
    "compiled_circuit_5 = transpile(circuit_5, simulator_5)\n",
    "result_5 = simulator_5.run(compiled_circuit_5).result()\n",
    "plot_histogram(result_5.get_counts())"
   ]
  },
  {
   "cell_type": "markdown",
   "metadata": {},
   "source": [
    "Output"
   ]
  },
  {
   "cell_type": "code",
   "execution_count": null,
   "metadata": {},
   "outputs": [],
   "source": [
    "circuit_5.remove_final_measurements()\n",
    "\n",
    "circuit_5.swap(0,1)\n",
    "\n",
    "print(circuit_5)\n",
    "circuit_5.draw(output='mpl')"
   ]
  },
  {
   "cell_type": "code",
   "execution_count": null,
   "metadata": {},
   "outputs": [],
   "source": [
    "# UPDATE: Code updated after recording to resolve breaking changes from Qiskit 1.0\n",
    "circuit_5.remove_final_measurements()  # no measurements allowed\n",
    "from qiskit.quantum_info import Statevector\n",
    "statevector_5 = Statevector(circuit_5)\n",
    "array_to_latex(statevector_5, prefix=\"\\\\text{statevector = }\\n\")"
   ]
  },
  {
   "cell_type": "code",
   "execution_count": null,
   "metadata": {},
   "outputs": [],
   "source": [
    "plot_bloch_multivector(statevector_5)"
   ]
  },
  {
   "cell_type": "code",
   "execution_count": null,
   "metadata": {},
   "outputs": [],
   "source": [
    "circuit_5.measure_all()\n",
    "\n",
    "# UPDATE: Code updated after recording to resolve breaking changes from Qiskit 1.0\n",
    "from qiskit.providers.basic_provider import BasicProvider\n",
    "simulator_5 = BasicProvider().get_backend('basic_simulator')\n",
    "compiled_circuit_5 = transpile(circuit_5, simulator_5)\n",
    "result_5 = simulator_5.run(compiled_circuit_5).result()\n",
    "plot_histogram(result_5.get_counts())"
   ]
  },
  {
   "cell_type": "markdown",
   "metadata": {},
   "source": [
    "Input:0,H"
   ]
  },
  {
   "cell_type": "code",
   "execution_count": null,
   "metadata": {},
   "outputs": [],
   "source": [
    "circuit_6 = QuantumCircuit(2)\n",
    "\n",
    "circuit_6.h(1)\n",
    "\n",
    "print(circuit_6)\n",
    "circuit_6.draw(output='mpl')"
   ]
  },
  {
   "cell_type": "code",
   "execution_count": null,
   "metadata": {},
   "outputs": [],
   "source": [
    "# UPDATE: Code updated after recording to resolve breaking changes from Qiskit 1.0\n",
    "circuit_6.remove_final_measurements()  # no measurements allowed\n",
    "from qiskit.quantum_info import Statevector\n",
    "statevector_6 = Statevector(circuit_6)\n",
    "array_to_latex(statevector_6, prefix=\"\\\\text{statevector = }\\n\")"
   ]
  },
  {
   "cell_type": "code",
   "execution_count": null,
   "metadata": {},
   "outputs": [],
   "source": [
    "plot_bloch_multivector(statevector_6)"
   ]
  },
  {
   "cell_type": "code",
   "execution_count": null,
   "metadata": {},
   "outputs": [],
   "source": [
    "circuit_6.measure_all()\n",
    "\n",
    "# UPDATE: Code updated after recording to resolve breaking changes from Qiskit 1.0\n",
    "from qiskit.providers.basic_provider import BasicProvider\n",
    "simulator_6 = BasicProvider().get_backend('basic_simulator')\n",
    "compiled_circuit_6 = transpile(circuit_6, simulator_6)\n",
    "result_6 = simulator_6.run(compiled_circuit_6).result()\n",
    "plot_histogram(result_6.get_counts())"
   ]
  },
  {
   "cell_type": "markdown",
   "metadata": {},
   "source": [
    "Output"
   ]
  },
  {
   "cell_type": "code",
   "execution_count": null,
   "metadata": {},
   "outputs": [],
   "source": [
    "circuit_6.remove_final_measurements()\n",
    "\n",
    "circuit_6.swap(0,1)\n",
    "\n",
    "print(circuit_6)\n",
    "circuit_6.draw(output='mpl')"
   ]
  },
  {
   "cell_type": "code",
   "execution_count": null,
   "metadata": {},
   "outputs": [],
   "source": [
    "# UPDATE: Code updated after recording to resolve breaking changes from Qiskit 1.0\n",
    "circuit_6.remove_final_measurements()  # no measurements allowed\n",
    "from qiskit.quantum_info import Statevector\n",
    "statevector_6 = Statevector(circuit_6)\n",
    "array_to_latex(statevector_6, prefix=\"\\\\text{statevector = }\\n\")"
   ]
  },
  {
   "cell_type": "code",
   "execution_count": null,
   "metadata": {},
   "outputs": [],
   "source": [
    "plot_bloch_multivector(statevector_6)"
   ]
  },
  {
   "cell_type": "code",
   "execution_count": null,
   "metadata": {},
   "outputs": [],
   "source": [
    "circuit_6.measure_all()\n",
    "\n",
    "# UPDATE: Code updated after recording to resolve breaking changes from Qiskit 1.0\n",
    "from qiskit.providers.basic_provider import BasicProvider\n",
    "simulator_6 = BasicProvider().get_backend('basic_simulator')\n",
    "compiled_circuit_6 = transpile(circuit_6, simulator_6)\n",
    "result_6 = simulator_6.run(compiled_circuit_6).result()\n",
    "plot_histogram(result_6.get_counts())"
   ]
  }
 ],
 "metadata": {
  "kernelspec": {
   "display_name": "Python 3",
   "language": "python",
   "name": "python3"
  },
  "language_info": {
   "codemirror_mode": {
    "name": "ipython",
    "version": 3
   },
   "file_extension": ".py",
   "mimetype": "text/x-python",
   "name": "python",
   "nbconvert_exporter": "python",
   "pygments_lexer": "ipython3",
   "version": "3.12.1"
  },
  "orig_nbformat": 4
 },
 "nbformat": 4,
 "nbformat_minor": 2
}
