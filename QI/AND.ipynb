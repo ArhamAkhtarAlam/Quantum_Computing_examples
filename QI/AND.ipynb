{
 "cells": [
  {
   "cell_type": "code",
   "execution_count": 1,
   "metadata": {},
   "outputs": [],
   "source": [
    "from qiskit import *\n",
    "from qiskit.visualization import plot_histogram, array_to_latex, plot_bloch_multivector\n",
    "%matplotlib inline"
   ]
  },
  {
   "cell_type": "markdown",
   "metadata": {},
   "source": [
    "Input(0,1 qubits)"
   ]
  },
  {
   "cell_type": "code",
   "execution_count": null,
   "metadata": {},
   "outputs": [],
   "source": [
    "circuit = QuantumCircuit(3)\n",
    "\n",
    "\n",
    "print(circuit)\n",
    "circuit.draw(output='mpl')"
   ]
  },
  {
   "cell_type": "code",
   "execution_count": null,
   "metadata": {},
   "outputs": [],
   "source": [
    "# UPDATE: Code updated after recording to resolve breaking changes from Qiskit 1.0\n",
    "circuit.remove_final_measurements()  # no measurements allowed\n",
    "from qiskit.quantum_info import Statevector\n",
    "statevector = Statevector(circuit)\n",
    "array_to_latex(statevector, prefix=\"\\\\text{statevector = }\\n\")"
   ]
  },
  {
   "cell_type": "code",
   "execution_count": null,
   "metadata": {},
   "outputs": [],
   "source": [
    "plot_bloch_multivector(statevector)"
   ]
  },
  {
   "cell_type": "code",
   "execution_count": null,
   "metadata": {},
   "outputs": [],
   "source": [
    "circuit.measure_all()\n",
    "\n",
    "# UPDATE: Code updated after recording to resolve breaking changes from Qiskit 1.0\n",
    "from qiskit.providers.basic_provider import BasicProvider\n",
    "simulator = BasicProvider().get_backend('basic_simulator')\n",
    "compiled_circuit = transpile(circuit, simulator)\n",
    "result = simulator.run(compiled_circuit).result()\n",
    "plot_histogram(result.get_counts())"
   ]
  },
  {
   "cell_type": "markdown",
   "metadata": {},
   "source": [
    "Output(2 qubit)"
   ]
  },
  {
   "cell_type": "code",
   "execution_count": null,
   "metadata": {},
   "outputs": [],
   "source": [
    "circuit.remove_final_measurements()\n",
    "\n",
    "circuit.ccx(0,1,2)\n",
    "\n",
    "print(circuit)\n",
    "circuit.draw(output='mpl')"
   ]
  },
  {
   "cell_type": "code",
   "execution_count": null,
   "metadata": {},
   "outputs": [],
   "source": [
    "# UPDATE: Code updated after recording to resolve breaking changes from Qiskit 1.0\n",
    "circuit.remove_final_measurements()  # no measurements allowed\n",
    "from qiskit.quantum_info import Statevector\n",
    "statevector = Statevector(circuit)\n",
    "array_to_latex(statevector, prefix=\"\\\\text{statevector = }\\n\")"
   ]
  },
  {
   "cell_type": "code",
   "execution_count": null,
   "metadata": {},
   "outputs": [],
   "source": [
    "plot_bloch_multivector(statevector)"
   ]
  },
  {
   "cell_type": "code",
   "execution_count": null,
   "metadata": {},
   "outputs": [],
   "source": [
    "circuit.measure_all()\n",
    "\n",
    "# UPDATE: Code updated after recording to resolve breaking changes from Qiskit 1.0\n",
    "from qiskit.providers.basic_provider import BasicProvider\n",
    "simulator = BasicProvider().get_backend('basic_simulator')\n",
    "compiled_circuit = transpile(circuit, simulator)\n",
    "result = simulator.run(compiled_circuit).result()\n",
    "plot_histogram(result.get_counts())"
   ]
  }
 ],
 "metadata": {
  "kernelspec": {
   "display_name": "Python 3",
   "language": "python",
   "name": "python3"
  },
  "language_info": {
   "codemirror_mode": {
    "name": "ipython",
    "version": 3
   },
   "file_extension": ".py",
   "mimetype": "text/x-python",
   "name": "python",
   "nbconvert_exporter": "python",
   "pygments_lexer": "ipython3",
   "version": "3.12.1"
  },
  "orig_nbformat": 4
 },
 "nbformat": 4,
 "nbformat_minor": 2
}
