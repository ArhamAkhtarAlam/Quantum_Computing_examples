{
 "cells": [
  {
   "cell_type": "code",
   "execution_count": null,
   "metadata": {},
   "outputs": [],
   "source": [
    "from qiskit import *\n",
    "from qiskit.visualization import plot_histogram, array_to_latex, plot_bloch_multivector\n",
    "%matplotlib inline"
   ]
  },
  {
   "cell_type": "code",
   "execution_count": null,
   "metadata": {},
   "outputs": [],
   "source": [
    "circuit = QuantumCircuit(11, 5)\n",
    "circuit.h(0) # initalize input A\n",
    "circuit.h(1)\n",
    "circuit.h(2) # initalize input B\n",
    "circuit.barrier()\n",
    "circuit.barrier()\n",
    "circuit.cx(0,6)\n",
    "circuit.cx(1,7)\n",
    "circuit.cx(2,8)\n",
    "circuit.barrier()\n",
    "\n",
    "circuit.swap(3, 2)\n",
    "circuit.ccx(0,1,2)\n",
    "circuit.barrier(4)\n",
    "circuit.barrier(4)\n",
    "circuit.cx(3,4)\n",
    "circuit.cx(2,4)\n",
    "circuit.ccx(2,3,4)\n",
    "circuit.swap(3, 2)\n",
    "circuit.cx(6,9)\n",
    "circuit.cx(7,9)\n",
    "circuit.cx(9,10)\n",
    "circuit.cx(8,10)\n",
    "\n",
    "\n",
    "circuit.barrier()\n",
    "circuit.measure(0, 4)\n",
    "circuit.measure(1, 3) \n",
    "circuit.measure(2, 2) \n",
    "circuit.measure(4, 0)\n",
    "circuit.measure(10,1)\n",
    "circuit.draw(output='mpl')"
   ]
  },
  {
   "cell_type": "code",
   "execution_count": null,
   "metadata": {},
   "outputs": [],
   "source": [
    "# UPDATE: Code updated after recording to resolve breaking changes from Qiskit 1.0\n",
    "from qiskit.providers.basic_provider import BasicProvider\n",
    "simulator = BasicProvider().get_backend('basic_simulator')\n",
    "compiled_circuit = transpile(circuit, simulator)\n",
    "result = simulator.run(compiled_circuit, shots=102400).result()\n",
    "plot_histogram(result.get_counts())"
   ]
  },
  {
   "cell_type": "code",
   "execution_count": null,
   "metadata": {},
   "outputs": [],
   "source": []
  }
 ],
 "metadata": {
  "kernelspec": {
   "display_name": "Python 3",
   "language": "python",
   "name": "python3"
  },
  "language_info": {
   "codemirror_mode": {
    "name": "ipython",
    "version": 3
   },
   "file_extension": ".py",
   "mimetype": "text/x-python",
   "name": "python",
   "nbconvert_exporter": "python",
   "pygments_lexer": "ipython3",
   "version": "3.12.1"
  },
  "orig_nbformat": 4
 },
 "nbformat": 4,
 "nbformat_minor": 2
}
